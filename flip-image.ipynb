{
 "cells": [
  {
   "cell_type": "code",
   "execution_count": 2,
   "metadata": {},
   "outputs": [],
   "source": [
    "from PIL import Image\n",
    "import os"
   ]
  },
  {
   "cell_type": "code",
   "execution_count": 7,
   "metadata": {},
   "outputs": [],
   "source": [
    "def flip_images_in_folder(folder_path):\n",
    "    for root, _, files in os.walk(folder_path):\n",
    "        for file in files:\n",
    "            file_path = os.path.join(root, file)\n",
    "            try:\n",
    "                # Open the image file\n",
    "                image = Image.open(file_path)\n",
    "\n",
    "                # Flip the image horizontally\n",
    "                flipped_image = image.transpose(Image.FLIP_LEFT_RIGHT)\n",
    "\n",
    "                # Save the flipped image\n",
    "                flipped_image.save(file_path)\n",
    "\n",
    "            except IOError:\n",
    "                print(f\"Unable to process image: {file_path}\")\n"
   ]
  },
  {
   "cell_type": "code",
   "execution_count": 8,
   "metadata": {},
   "outputs": [],
   "source": [
    "# Provide the path to the folder containing your images\n",
    "folder_path = 'asl_alphabet_train_right'\n",
    "flip_images_in_folder(folder_path)"
   ]
  },
  {
   "cell_type": "code",
   "execution_count": 9,
   "metadata": {},
   "outputs": [],
   "source": [
    "# Provide the path to the folder containing your images\n",
    "folder_path = 'asl_alphabet_test_right'\n",
    "flip_images_in_folder(folder_path)"
   ]
  },
  {
   "cell_type": "code",
   "execution_count": null,
   "metadata": {},
   "outputs": [],
   "source": [
    "# Provide the path to the folder containing your images\n",
    "folder_path = 'asl_data_right'\n",
    "flip_images_in_folder(folder_path)"
   ]
  }
 ],
 "metadata": {
  "kernelspec": {
   "display_name": "mediapipe",
   "language": "python",
   "name": "python3"
  },
  "language_info": {
   "codemirror_mode": {
    "name": "ipython",
    "version": 3
   },
   "file_extension": ".py",
   "mimetype": "text/x-python",
   "name": "python",
   "nbconvert_exporter": "python",
   "pygments_lexer": "ipython3",
   "version": "3.10.11"
  },
  "orig_nbformat": 4
 },
 "nbformat": 4,
 "nbformat_minor": 2
}
