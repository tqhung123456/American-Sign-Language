{
 "cells": [
  {
   "cell_type": "code",
   "execution_count": 1,
   "metadata": {},
   "outputs": [],
   "source": [
    "import os\n",
    "import numpy as np\n",
    "import mediapipe as mp\n",
    "from mediapipe.tasks import python\n",
    "from mediapipe.tasks.python import vision\n",
    "from mediapipe import solutions\n",
    "from mediapipe.framework.formats import landmark_pb2"
   ]
  },
  {
   "cell_type": "code",
   "execution_count": 2,
   "metadata": {},
   "outputs": [],
   "source": [
    "# Define labels\n",
    "labels = ['A', 'B', 'C', 'D', 'E', 'F', 'G', 'H', 'I', 'J', 'K', 'L', 'M', 'N',\n",
    "          'O', 'P', 'Q', 'R', 'S', 'T', 'U', 'V', 'W', 'X', 'Y', 'Z', 'space', 'del']"
   ]
  },
  {
   "cell_type": "code",
   "execution_count": 3,
   "metadata": {},
   "outputs": [],
   "source": [
    "BaseOptions = mp.tasks.BaseOptions\n",
    "HandLandmarker = mp.tasks.vision.HandLandmarker\n",
    "HandLandmarkerOptions = mp.tasks.vision.HandLandmarkerOptions\n",
    "VisionRunningMode = mp.tasks.vision.RunningMode\n",
    "\n",
    "# Create a hand landmarker instance with the image mode:\n",
    "options = HandLandmarkerOptions(\n",
    "    base_options=BaseOptions(model_asset_path='hand_landmarker.task'),\n",
    "    running_mode=VisionRunningMode.IMAGE)\n",
    "landmarker = HandLandmarker.create_from_options(options)"
   ]
  },
  {
   "cell_type": "code",
   "execution_count": 5,
   "metadata": {},
   "outputs": [],
   "source": [
    "# Loop through all the labels\n",
    "for label_index, IMAGE_FILES in enumerate(labels):\n",
    "    # Get all images in current label\n",
    "    files = os.listdir(os.path.join('asl_data_right', IMAGE_FILES))\n",
    "    \n",
    "    # Total number of images\n",
    "    size = len(files)\n",
    "    \n",
    "    # Initialize empty array to store landmarks\n",
    "    arr = np.empty((size, 21, 2))\n",
    "    \n",
    "    # Loop through all images in each label\n",
    "    for file_index, file in enumerate(files):\n",
    "        # Load the input image.\n",
    "        image = mp.Image.create_from_file(os.path.join('asl_data_right', IMAGE_FILES, file))\n",
    "\n",
    "        # Detect hand landmarks from the input image.\n",
    "        detection_result = landmarker.detect(image)\n",
    "        \n",
    "        # Get landmarks\n",
    "        landmarks = detection_result.hand_world_landmarks[0]\n",
    "        \n",
    "        # Save landmarks to array\n",
    "        for landmark_index, landmark in enumerate(landmarks):\n",
    "            arr[file_index][landmark_index][0] = landmark.x\n",
    "            arr[file_index][landmark_index][1] = landmark.y\n",
    "            \n",
    "    # Array to store label\n",
    "    label_arr = np.tile(label_index, (size, 1))\n",
    "    \n",
    "    # Save arrays\n",
    "    np.save('landmark_train_right/' + IMAGE_FILES + '-landmark', arr)\n",
    "    np.save('landmark_train_right/' + IMAGE_FILES + '-label', label_arr)"
   ]
  },
  {
   "cell_type": "code",
   "execution_count": 6,
   "metadata": {},
   "outputs": [],
   "source": [
    "# Initalize landmarks and labels array\n",
    "landmark_train = []\n",
    "label_train = []\n",
    "\n",
    "# Loop through all the labels\n",
    "for IMAGE_FILES in labels:\n",
    "    # Load array and append\n",
    "    landmark_train.append(np.load('landmark_train_right/' + IMAGE_FILES + '-landmark.npy'))\n",
    "    label_train.append(np.load('landmark_train_right/' + IMAGE_FILES + '-label.npy'))\n",
    "    \n",
    "# Concatenate to a complete dataset\n",
    "landmark_train = np.concatenate(landmark_train, axis=0)\n",
    "label_train = np.concatenate(label_train, axis=0)\n",
    "\n",
    "# Save dataset\n",
    "np.save('landmark_train_right/landmark', landmark_train)\n",
    "np.save('landmark_train_right/label', label_train)"
   ]
  },
  {
   "cell_type": "code",
   "execution_count": 8,
   "metadata": {},
   "outputs": [
    {
     "name": "stdout",
     "output_type": "stream",
     "text": [
      "(61711, 21, 2)\n",
      "(61711, 1)\n"
     ]
    }
   ],
   "source": [
    "print(np.load('landmark_train_right/landmark.npy').shape)\n",
    "print(np.load('landmark_train_right/label.npy').shape)"
   ]
  }
 ],
 "metadata": {
  "kernelspec": {
   "display_name": "mediapipe",
   "language": "python",
   "name": "python3"
  },
  "language_info": {
   "codemirror_mode": {
    "name": "ipython",
    "version": 3
   },
   "file_extension": ".py",
   "mimetype": "text/x-python",
   "name": "python",
   "nbconvert_exporter": "python",
   "pygments_lexer": "ipython3",
   "version": "3.10.11"
  },
  "orig_nbformat": 4
 },
 "nbformat": 4,
 "nbformat_minor": 2
}
